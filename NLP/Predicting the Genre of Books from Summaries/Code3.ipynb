{
 "cells": [
  {
   "cell_type": "markdown",
   "metadata": {},
   "source": [
    "## Manjiri Pendharkar - 45933219"
   ]
  },
  {
   "cell_type": "markdown",
   "metadata": {},
   "source": [
    "Github url - https://github.com/MQCOMP2200-S2-2020/portfolio-2020-manjiri2077"
   ]
  },
  {
   "cell_type": "code",
   "execution_count": 1,
   "metadata": {},
   "outputs": [],
   "source": [
    "import pandas as pd\n",
    "import numpy as np\n",
    "import matplotlib.pyplot as plt\n",
    "%matplotlib inline\n",
    "from sklearn.preprocessing import LabelEncoder\n",
    "from sklearn.feature_extraction.text import TfidfVectorizer\n",
    "from sklearn.model_selection import train_test_split\n",
    "from sklearn.linear_model import LogisticRegression\n",
    "from sklearn.metrics import classification_report\n",
    "from sklearn.metrics import confusion_matrix, accuracy_score, precision_score, recall_score, f1_score\n",
    "from sklearn.naive_bayes import GaussianNB\n",
    "from sklearn.tree import DecisionTreeClassifier\n",
    "from sklearn.ensemble import RandomForestClassifier\n",
    "from sklearn.datasets import make_classification\n",
    "from sklearn.neighbors import KNeighborsClassifier"
   ]
  },
  {
   "cell_type": "markdown",
   "metadata": {},
   "source": [
    "## Predicting the Genre of Books from Summaries\n",
    "\n",
    "We'll use a set of book summaries from the [CMU Book Summaries Corpus](http://www.cs.cmu.edu/~dbamman/booksummaries.html) in this experiment.  This contains a large number of summaries (16,559) and includes meta-data about the genre of the books taken from Freebase.  Each book can have more than one genre and there are 227 genres listed in total.  To simplify the problem of genre prediction we will select a small number of target genres that occur frequently in the collection and select the books with these genre labels.  This will give us one genre label per book. \n",
    "\n",
    "Your goal in this portfolio is to take this data and build predictive models to classify the books into one of the five target genres.  You will need to extract suitable features from the texts and select suitable models to classify them. You should build and evaluate at least TWO models and compare the prediction results.\n",
    "\n",
    "You should report on each stage of your experiment as you work with the data.\n"
   ]
  },
  {
   "cell_type": "markdown",
   "metadata": {},
   "source": [
    "## Data Preparation\n",
    "\n",
    "The first task is to read the data. It is made available in tab-separated format but has no column headings. We can use `read_csv` to read this but we need to set the separator to `\\t` (tab) and supply the column names.  The names come from the [ReadMe](data/booksummaries/README.txt) file."
   ]
  },
  {
   "cell_type": "code",
   "execution_count": 2,
   "metadata": {
    "scrolled": true
   },
   "outputs": [
    {
     "data": {
      "text/html": [
       "<div>\n",
       "<style scoped>\n",
       "    .dataframe tbody tr th:only-of-type {\n",
       "        vertical-align: middle;\n",
       "    }\n",
       "\n",
       "    .dataframe tbody tr th {\n",
       "        vertical-align: top;\n",
       "    }\n",
       "\n",
       "    .dataframe thead th {\n",
       "        text-align: right;\n",
       "    }\n",
       "</style>\n",
       "<table border=\"1\" class=\"dataframe\">\n",
       "  <thead>\n",
       "    <tr style=\"text-align: right;\">\n",
       "      <th></th>\n",
       "      <th>wid</th>\n",
       "      <th>fid</th>\n",
       "      <th>title</th>\n",
       "      <th>author</th>\n",
       "      <th>date</th>\n",
       "      <th>genres</th>\n",
       "      <th>summary</th>\n",
       "    </tr>\n",
       "  </thead>\n",
       "  <tbody>\n",
       "    <tr>\n",
       "      <th>0</th>\n",
       "      <td>620</td>\n",
       "      <td>/m/0hhy</td>\n",
       "      <td>Animal Farm</td>\n",
       "      <td>George Orwell</td>\n",
       "      <td>1945-08-17</td>\n",
       "      <td>{\"/m/016lj8\": \"Roman \\u00e0 clef\", \"/m/06nbt\":...</td>\n",
       "      <td>Old Major, the old boar on the Manor Farm, ca...</td>\n",
       "    </tr>\n",
       "    <tr>\n",
       "      <th>1</th>\n",
       "      <td>843</td>\n",
       "      <td>/m/0k36</td>\n",
       "      <td>A Clockwork Orange</td>\n",
       "      <td>Anthony Burgess</td>\n",
       "      <td>1962</td>\n",
       "      <td>{\"/m/06n90\": \"Science Fiction\", \"/m/0l67h\": \"N...</td>\n",
       "      <td>Alex, a teenager living in near-future Englan...</td>\n",
       "    </tr>\n",
       "    <tr>\n",
       "      <th>2</th>\n",
       "      <td>986</td>\n",
       "      <td>/m/0ldx</td>\n",
       "      <td>The Plague</td>\n",
       "      <td>Albert Camus</td>\n",
       "      <td>1947</td>\n",
       "      <td>{\"/m/02m4t\": \"Existentialism\", \"/m/02xlf\": \"Fi...</td>\n",
       "      <td>The text of The Plague is divided into five p...</td>\n",
       "    </tr>\n",
       "    <tr>\n",
       "      <th>3</th>\n",
       "      <td>1756</td>\n",
       "      <td>/m/0sww</td>\n",
       "      <td>An Enquiry Concerning Human Understanding</td>\n",
       "      <td>David Hume</td>\n",
       "      <td></td>\n",
       "      <td></td>\n",
       "      <td>The argument of the Enquiry proceeds by a ser...</td>\n",
       "    </tr>\n",
       "    <tr>\n",
       "      <th>4</th>\n",
       "      <td>2080</td>\n",
       "      <td>/m/0wkt</td>\n",
       "      <td>A Fire Upon the Deep</td>\n",
       "      <td>Vernor Vinge</td>\n",
       "      <td></td>\n",
       "      <td>{\"/m/03lrw\": \"Hard science fiction\", \"/m/06n90...</td>\n",
       "      <td>The novel posits that space around the Milky ...</td>\n",
       "    </tr>\n",
       "  </tbody>\n",
       "</table>\n",
       "</div>"
      ],
      "text/plain": [
       "    wid      fid                                      title           author  \\\n",
       "0   620  /m/0hhy                                Animal Farm    George Orwell   \n",
       "1   843  /m/0k36                         A Clockwork Orange  Anthony Burgess   \n",
       "2   986  /m/0ldx                                 The Plague     Albert Camus   \n",
       "3  1756  /m/0sww  An Enquiry Concerning Human Understanding       David Hume   \n",
       "4  2080  /m/0wkt                       A Fire Upon the Deep     Vernor Vinge   \n",
       "\n",
       "         date                                             genres  \\\n",
       "0  1945-08-17  {\"/m/016lj8\": \"Roman \\u00e0 clef\", \"/m/06nbt\":...   \n",
       "1        1962  {\"/m/06n90\": \"Science Fiction\", \"/m/0l67h\": \"N...   \n",
       "2        1947  {\"/m/02m4t\": \"Existentialism\", \"/m/02xlf\": \"Fi...   \n",
       "3                                                                  \n",
       "4              {\"/m/03lrw\": \"Hard science fiction\", \"/m/06n90...   \n",
       "\n",
       "                                             summary  \n",
       "0   Old Major, the old boar on the Manor Farm, ca...  \n",
       "1   Alex, a teenager living in near-future Englan...  \n",
       "2   The text of The Plague is divided into five p...  \n",
       "3   The argument of the Enquiry proceeds by a ser...  \n",
       "4   The novel posits that space around the Milky ...  "
      ]
     },
     "execution_count": 2,
     "metadata": {},
     "output_type": "execute_result"
    }
   ],
   "source": [
    "names = ['wid', 'fid', 'title', 'author', 'date', 'genres', 'summary']\n",
    "\n",
    "books = pd.read_csv(\"data/booksummaries.txt\", sep=\"\\t\", header=None, names=names, keep_default_na=False)\n",
    "books.head()"
   ]
  },
  {
   "cell_type": "markdown",
   "metadata": {},
   "source": [
    "We next filter the data so that only our target genre labels are included and we assign each text to just one of the genre labels.  It's possible that one text could be labelled with two of these labels (eg. Science Fiction and Fantasy) but we will just assign one of those here. "
   ]
  },
  {
   "cell_type": "code",
   "execution_count": 3,
   "metadata": {},
   "outputs": [
    {
     "data": {
      "text/plain": [
       "(8954, 5)"
      ]
     },
     "execution_count": 3,
     "metadata": {},
     "output_type": "execute_result"
    }
   ],
   "source": [
    "target_genres = [\"Children's literature\",\n",
    "                 'Science Fiction',\n",
    "                 'Novel',\n",
    "                 'Fantasy',\n",
    "                 'Mystery']\n",
    "\n",
    "# create a Series of empty strings the same length as the list of books\n",
    "genre = pd.Series(np.repeat(\"\", books.shape[0]))\n",
    "# look for each target genre and set the corresponding entries in the genre series to the genre label\n",
    "for g in target_genres:\n",
    "    genre[books['genres'].str.contains(g)] = g\n",
    "\n",
    "# add this to the book dataframe and then select only those rows that have a genre label\n",
    "# drop some useless columns\n",
    "books['genre'] = genre\n",
    "genre_books = books[genre!=''].drop(['genres', 'fid', 'wid'], axis=1)\n",
    "\n",
    "genre_books.shape\n"
   ]
  },
  {
   "cell_type": "code",
   "execution_count": 4,
   "metadata": {},
   "outputs": [
    {
     "data": {
      "text/html": [
       "<div>\n",
       "<style scoped>\n",
       "    .dataframe tbody tr th:only-of-type {\n",
       "        vertical-align: middle;\n",
       "    }\n",
       "\n",
       "    .dataframe tbody tr th {\n",
       "        vertical-align: top;\n",
       "    }\n",
       "\n",
       "    .dataframe thead th {\n",
       "        text-align: right;\n",
       "    }\n",
       "</style>\n",
       "<table border=\"1\" class=\"dataframe\">\n",
       "  <thead>\n",
       "    <tr style=\"text-align: right;\">\n",
       "      <th></th>\n",
       "      <th>title</th>\n",
       "      <th>author</th>\n",
       "      <th>date</th>\n",
       "      <th>summary</th>\n",
       "      <th>genre</th>\n",
       "    </tr>\n",
       "  </thead>\n",
       "  <tbody>\n",
       "    <tr>\n",
       "      <th>0</th>\n",
       "      <td>Animal Farm</td>\n",
       "      <td>George Orwell</td>\n",
       "      <td>1945-08-17</td>\n",
       "      <td>Old Major, the old boar on the Manor Farm, ca...</td>\n",
       "      <td>Children's literature</td>\n",
       "    </tr>\n",
       "    <tr>\n",
       "      <th>1</th>\n",
       "      <td>A Clockwork Orange</td>\n",
       "      <td>Anthony Burgess</td>\n",
       "      <td>1962</td>\n",
       "      <td>Alex, a teenager living in near-future Englan...</td>\n",
       "      <td>Novel</td>\n",
       "    </tr>\n",
       "    <tr>\n",
       "      <th>2</th>\n",
       "      <td>The Plague</td>\n",
       "      <td>Albert Camus</td>\n",
       "      <td>1947</td>\n",
       "      <td>The text of The Plague is divided into five p...</td>\n",
       "      <td>Novel</td>\n",
       "    </tr>\n",
       "    <tr>\n",
       "      <th>4</th>\n",
       "      <td>A Fire Upon the Deep</td>\n",
       "      <td>Vernor Vinge</td>\n",
       "      <td></td>\n",
       "      <td>The novel posits that space around the Milky ...</td>\n",
       "      <td>Fantasy</td>\n",
       "    </tr>\n",
       "    <tr>\n",
       "      <th>6</th>\n",
       "      <td>A Wizard of Earthsea</td>\n",
       "      <td>Ursula K. Le Guin</td>\n",
       "      <td>1968</td>\n",
       "      <td>Ged is a young boy on Gont, one of the larger...</td>\n",
       "      <td>Fantasy</td>\n",
       "    </tr>\n",
       "  </tbody>\n",
       "</table>\n",
       "</div>"
      ],
      "text/plain": [
       "                  title             author        date  \\\n",
       "0           Animal Farm      George Orwell  1945-08-17   \n",
       "1    A Clockwork Orange    Anthony Burgess        1962   \n",
       "2            The Plague       Albert Camus        1947   \n",
       "4  A Fire Upon the Deep       Vernor Vinge               \n",
       "6  A Wizard of Earthsea  Ursula K. Le Guin        1968   \n",
       "\n",
       "                                             summary                  genre  \n",
       "0   Old Major, the old boar on the Manor Farm, ca...  Children's literature  \n",
       "1   Alex, a teenager living in near-future Englan...                  Novel  \n",
       "2   The text of The Plague is divided into five p...                  Novel  \n",
       "4   The novel posits that space around the Milky ...                Fantasy  \n",
       "6   Ged is a young boy on Gont, one of the larger...                Fantasy  "
      ]
     },
     "execution_count": 4,
     "metadata": {},
     "output_type": "execute_result"
    }
   ],
   "source": [
    "genre_books.head()"
   ]
  },
  {
   "cell_type": "code",
   "execution_count": 5,
   "metadata": {},
   "outputs": [
    {
     "data": {
      "text/html": [
       "<div>\n",
       "<style scoped>\n",
       "    .dataframe tbody tr th:only-of-type {\n",
       "        vertical-align: middle;\n",
       "    }\n",
       "\n",
       "    .dataframe tbody tr th {\n",
       "        vertical-align: top;\n",
       "    }\n",
       "\n",
       "    .dataframe thead th {\n",
       "        text-align: right;\n",
       "    }\n",
       "</style>\n",
       "<table border=\"1\" class=\"dataframe\">\n",
       "  <thead>\n",
       "    <tr style=\"text-align: right;\">\n",
       "      <th></th>\n",
       "      <th>title</th>\n",
       "      <th>author</th>\n",
       "      <th>date</th>\n",
       "      <th>summary</th>\n",
       "    </tr>\n",
       "    <tr>\n",
       "      <th>genre</th>\n",
       "      <th></th>\n",
       "      <th></th>\n",
       "      <th></th>\n",
       "      <th></th>\n",
       "    </tr>\n",
       "  </thead>\n",
       "  <tbody>\n",
       "    <tr>\n",
       "      <th>Children's literature</th>\n",
       "      <td>1092</td>\n",
       "      <td>1092</td>\n",
       "      <td>1092</td>\n",
       "      <td>1092</td>\n",
       "    </tr>\n",
       "    <tr>\n",
       "      <th>Fantasy</th>\n",
       "      <td>2311</td>\n",
       "      <td>2311</td>\n",
       "      <td>2311</td>\n",
       "      <td>2311</td>\n",
       "    </tr>\n",
       "    <tr>\n",
       "      <th>Mystery</th>\n",
       "      <td>1396</td>\n",
       "      <td>1396</td>\n",
       "      <td>1396</td>\n",
       "      <td>1396</td>\n",
       "    </tr>\n",
       "    <tr>\n",
       "      <th>Novel</th>\n",
       "      <td>2258</td>\n",
       "      <td>2258</td>\n",
       "      <td>2258</td>\n",
       "      <td>2258</td>\n",
       "    </tr>\n",
       "    <tr>\n",
       "      <th>Science Fiction</th>\n",
       "      <td>1897</td>\n",
       "      <td>1897</td>\n",
       "      <td>1897</td>\n",
       "      <td>1897</td>\n",
       "    </tr>\n",
       "  </tbody>\n",
       "</table>\n",
       "</div>"
      ],
      "text/plain": [
       "                       title  author  date  summary\n",
       "genre                                              \n",
       "Children's literature   1092    1092  1092     1092\n",
       "Fantasy                 2311    2311  2311     2311\n",
       "Mystery                 1396    1396  1396     1396\n",
       "Novel                   2258    2258  2258     2258\n",
       "Science Fiction         1897    1897  1897     1897"
      ]
     },
     "execution_count": 5,
     "metadata": {},
     "output_type": "execute_result"
    }
   ],
   "source": [
    "# check how many books we have in each genre category\n",
    "genre_books.groupby('genre').count()\n"
   ]
  },
  {
   "cell_type": "markdown",
   "metadata": {},
   "source": [
    "## Label encoding\n"
   ]
  },
  {
   "cell_type": "code",
   "execution_count": 6,
   "metadata": {},
   "outputs": [
    {
     "data": {
      "text/plain": [
       "LabelEncoder()"
      ]
     },
     "execution_count": 6,
     "metadata": {},
     "output_type": "execute_result"
    }
   ],
   "source": [
    "le =LabelEncoder()\n",
    "le.fit(list(genre_books['genre'].values))"
   ]
  },
  {
   "cell_type": "code",
   "execution_count": 7,
   "metadata": {},
   "outputs": [
    {
     "data": {
      "text/html": [
       "<div>\n",
       "<style scoped>\n",
       "    .dataframe tbody tr th:only-of-type {\n",
       "        vertical-align: middle;\n",
       "    }\n",
       "\n",
       "    .dataframe tbody tr th {\n",
       "        vertical-align: top;\n",
       "    }\n",
       "\n",
       "    .dataframe thead th {\n",
       "        text-align: right;\n",
       "    }\n",
       "</style>\n",
       "<table border=\"1\" class=\"dataframe\">\n",
       "  <thead>\n",
       "    <tr style=\"text-align: right;\">\n",
       "      <th></th>\n",
       "      <th>title</th>\n",
       "      <th>author</th>\n",
       "      <th>date</th>\n",
       "      <th>summary</th>\n",
       "      <th>genre</th>\n",
       "      <th>genre_no</th>\n",
       "    </tr>\n",
       "  </thead>\n",
       "  <tbody>\n",
       "    <tr>\n",
       "      <th>0</th>\n",
       "      <td>Animal Farm</td>\n",
       "      <td>George Orwell</td>\n",
       "      <td>1945-08-17</td>\n",
       "      <td>Old Major, the old boar on the Manor Farm, ca...</td>\n",
       "      <td>Children's literature</td>\n",
       "      <td>0</td>\n",
       "    </tr>\n",
       "    <tr>\n",
       "      <th>1</th>\n",
       "      <td>A Clockwork Orange</td>\n",
       "      <td>Anthony Burgess</td>\n",
       "      <td>1962</td>\n",
       "      <td>Alex, a teenager living in near-future Englan...</td>\n",
       "      <td>Novel</td>\n",
       "      <td>3</td>\n",
       "    </tr>\n",
       "    <tr>\n",
       "      <th>2</th>\n",
       "      <td>The Plague</td>\n",
       "      <td>Albert Camus</td>\n",
       "      <td>1947</td>\n",
       "      <td>The text of The Plague is divided into five p...</td>\n",
       "      <td>Novel</td>\n",
       "      <td>3</td>\n",
       "    </tr>\n",
       "    <tr>\n",
       "      <th>4</th>\n",
       "      <td>A Fire Upon the Deep</td>\n",
       "      <td>Vernor Vinge</td>\n",
       "      <td></td>\n",
       "      <td>The novel posits that space around the Milky ...</td>\n",
       "      <td>Fantasy</td>\n",
       "      <td>1</td>\n",
       "    </tr>\n",
       "    <tr>\n",
       "      <th>6</th>\n",
       "      <td>A Wizard of Earthsea</td>\n",
       "      <td>Ursula K. Le Guin</td>\n",
       "      <td>1968</td>\n",
       "      <td>Ged is a young boy on Gont, one of the larger...</td>\n",
       "      <td>Fantasy</td>\n",
       "      <td>1</td>\n",
       "    </tr>\n",
       "  </tbody>\n",
       "</table>\n",
       "</div>"
      ],
      "text/plain": [
       "                  title             author        date  \\\n",
       "0           Animal Farm      George Orwell  1945-08-17   \n",
       "1    A Clockwork Orange    Anthony Burgess        1962   \n",
       "2            The Plague       Albert Camus        1947   \n",
       "4  A Fire Upon the Deep       Vernor Vinge               \n",
       "6  A Wizard of Earthsea  Ursula K. Le Guin        1968   \n",
       "\n",
       "                                             summary                  genre  \\\n",
       "0   Old Major, the old boar on the Manor Farm, ca...  Children's literature   \n",
       "1   Alex, a teenager living in near-future Englan...                  Novel   \n",
       "2   The text of The Plague is divided into five p...                  Novel   \n",
       "4   The novel posits that space around the Milky ...                Fantasy   \n",
       "6   Ged is a young boy on Gont, one of the larger...                Fantasy   \n",
       "\n",
       "   genre_no  \n",
       "0         0  \n",
       "1         3  \n",
       "2         3  \n",
       "4         1  \n",
       "6         1  "
      ]
     },
     "execution_count": 7,
     "metadata": {},
     "output_type": "execute_result"
    }
   ],
   "source": [
    "# creating a new colum genre_no to have encoded labels\n",
    "genre_books['genre_no']= le.transform(list(genre_books['genre']))\n",
    "genre_books.head()"
   ]
  },
  {
   "cell_type": "code",
   "execution_count": 8,
   "metadata": {},
   "outputs": [
    {
     "name": "stdout",
     "output_type": "stream",
     "text": [
      "[\"Children's literature\", 'Fantasy', 'Mystery', 'Novel', 'Science Fiction']\n"
     ]
    }
   ],
   "source": [
    "target_names =list(le.inverse_transform([0,1,2,3,4]))\n",
    "print(target_names)"
   ]
  },
  {
   "cell_type": "markdown",
   "metadata": {},
   "source": [
    "## TfidfVectorization\n",
    "To convert a collection of raw documents of book summaries to a matrix of TF-IDF features by building a vocabulary that only consider the top  5000 max_features (5000 most frequent words from summary)"
   ]
  },
  {
   "cell_type": "code",
   "execution_count": 9,
   "metadata": {},
   "outputs": [
    {
     "name": "stdout",
     "output_type": "stream",
     "text": [
      "(8954, 5000)\n"
     ]
    }
   ],
   "source": [
    "vectorizer = TfidfVectorizer(max_features = 5000)\n",
    "X = vectorizer.fit_transform(genre_books.summary).toarray()\n",
    "print(X.shape)"
   ]
  },
  {
   "cell_type": "markdown",
   "metadata": {},
   "source": [
    "## Data splitting into training and testing"
   ]
  },
  {
   "cell_type": "code",
   "execution_count": 10,
   "metadata": {},
   "outputs": [
    {
     "name": "stdout",
     "output_type": "stream",
     "text": [
      "(7163, 5000)\n",
      "(7163,)\n",
      "(1791, 5000)\n",
      "(1791,)\n"
     ]
    }
   ],
   "source": [
    "X_train, X_test, y_train, y_test =train_test_split(X,genre_books['genre_no'], test_size=0.2, random_state=142)\n",
    "print(X_train.shape)\n",
    "print(y_train.shape)\n",
    "print(X_test.shape)\n",
    "print(y_test.shape)"
   ]
  },
  {
   "cell_type": "markdown",
   "metadata": {},
   "source": [
    "## Model training"
   ]
  },
  {
   "cell_type": "markdown",
   "metadata": {},
   "source": [
    "## Modelling using Logistic Regression"
   ]
  },
  {
   "cell_type": "code",
   "execution_count": 11,
   "metadata": {},
   "outputs": [
    {
     "name": "stderr",
     "output_type": "stream",
     "text": [
      "C:\\Programs\\Anaconda\\lib\\site-packages\\sklearn\\linear_model\\_logistic.py:762: ConvergenceWarning: lbfgs failed to converge (status=1):\n",
      "STOP: TOTAL NO. of ITERATIONS REACHED LIMIT.\n",
      "\n",
      "Increase the number of iterations (max_iter) or scale the data as shown in:\n",
      "    https://scikit-learn.org/stable/modules/preprocessing.html\n",
      "Please also refer to the documentation for alternative solver options:\n",
      "    https://scikit-learn.org/stable/modules/linear_model.html#logistic-regression\n",
      "  n_iter_i = _check_optimize_result(\n"
     ]
    },
    {
     "data": {
      "text/plain": [
       "LogisticRegression()"
      ]
     },
     "execution_count": 11,
     "metadata": {},
     "output_type": "execute_result"
    }
   ],
   "source": [
    "# Build the model\n",
    "lr= LogisticRegression()\n",
    "\n",
    "# Train the model with the training data\n",
    "lr.fit(X_train,y_train)"
   ]
  },
  {
   "cell_type": "code",
   "execution_count": 12,
   "metadata": {},
   "outputs": [],
   "source": [
    "# prediction on testing data\n",
    "y_test_pred = lr.predict(X_test)"
   ]
  },
  {
   "cell_type": "code",
   "execution_count": 13,
   "metadata": {},
   "outputs": [
    {
     "name": "stdout",
     "output_type": "stream",
     "text": [
      "                       precision    recall  f1-score   support\n",
      "\n",
      "Children's literature       0.68      0.46      0.55       237\n",
      "              Fantasy       0.72      0.76      0.74       453\n",
      "              Mystery       0.73      0.64      0.68       271\n",
      "                Novel       0.60      0.76      0.67       430\n",
      "      Science Fiction       0.76      0.70      0.73       400\n",
      "\n",
      "             accuracy                           0.69      1791\n",
      "            macro avg       0.70      0.67      0.68      1791\n",
      "         weighted avg       0.70      0.69      0.69      1791\n",
      "\n"
     ]
    }
   ],
   "source": [
    "print(classification_report(y_test,y_test_pred,target_names=target_names))"
   ]
  },
  {
   "cell_type": "markdown",
   "metadata": {},
   "source": [
    "Model's predicting is good on Fantasy,Mystery,Novel and Science Fiction but comparatively less on Chidren's literature."
   ]
  },
  {
   "cell_type": "code",
   "execution_count": 14,
   "metadata": {},
   "outputs": [],
   "source": [
    "logistic_acc_score = accuracy_score(y_test,y_test_pred)\n",
    "logistic_pre_score = precision_score(y_test,y_test_pred, average=\"macro\")\n",
    "logistic_rec_score = recall_score(y_test,y_test_pred, average=\"macro\")\n",
    "logistic_f1_score = f1_score(y_test,y_test_pred, average=\"macro\")"
   ]
  },
  {
   "cell_type": "code",
   "execution_count": 15,
   "metadata": {},
   "outputs": [
    {
     "name": "stdout",
     "output_type": "stream",
     "text": [
      "For Logistic regression model : \n",
      "\n",
      "Accuracy score:  0.6901172529313233\n",
      "Precision score:  0.6987587497426926\n",
      "Recall score:  0.6653546861264455\n",
      "F1 score:  0.6750389855483461\n"
     ]
    }
   ],
   "source": [
    "print(\"For Logistic regression model : \")\n",
    "print()\n",
    "print(\"Accuracy score: \", logistic_acc_score)\n",
    "print(\"Precision score: \", logistic_pre_score)\n",
    "print(\"Recall score: \", logistic_rec_score)\n",
    "print(\"F1 score: \", logistic_f1_score)"
   ]
  },
  {
   "cell_type": "markdown",
   "metadata": {},
   "source": [
    "Logistic model is approximately 70% accurate for predicting genre of a book based on a summary.\n",
    "Precision score is about 0.70 which means, for all instances classified positive (ratio of true positives to the sum of true and false positives), 70% genres were classified correctly.\n",
    "Recall score is 0.66 which means, for all instances that were actually positive (ratio of true positives to the sum of true positives and false negatives), 66% genres were classified correctly.\n",
    "F1 score is about 0.67 which is weighted harmonic mean of precision and recall. "
   ]
  },
  {
   "cell_type": "code",
   "execution_count": 16,
   "metadata": {},
   "outputs": [
    {
     "name": "stdout",
     "output_type": "stream",
     "text": [
      "For Logistic regression model : \n",
      "\n",
      "Confusion matrix on testing data: \n",
      "[[110  47  13  59   8]\n",
      " [ 18 346  10  45  34]\n",
      " [  5  19 173  63  11]\n",
      " [ 19  21  26 327  37]\n",
      " [  9  45  15  51 280]]\n"
     ]
    }
   ],
   "source": [
    "print(\"For Logistic regression model : \")\n",
    "print()\n",
    "print(\"Confusion matrix on testing data: \")\n",
    "print(confusion_matrix(y_test,y_test_pred))"
   ]
  },
  {
   "cell_type": "code",
   "execution_count": 17,
   "metadata": {},
   "outputs": [
    {
     "name": "stdout",
     "output_type": "stream",
     "text": [
      "Number of mislabeled book genres out of a total 1791 test genres : 555\n"
     ]
    }
   ],
   "source": [
    "print(\"Number of mislabeled book genres out of a total %d test genres : %d\"  % (X_test.shape[0], (y_test != y_test_pred).sum()))"
   ]
  },
  {
   "cell_type": "markdown",
   "metadata": {},
   "source": [
    "##  Modelling using Gaussian Naive Bayes"
   ]
  },
  {
   "cell_type": "code",
   "execution_count": 18,
   "metadata": {},
   "outputs": [],
   "source": [
    "# Build the model\n",
    "gnb = GaussianNB()"
   ]
  },
  {
   "cell_type": "code",
   "execution_count": 19,
   "metadata": {},
   "outputs": [
    {
     "data": {
      "text/plain": [
       "GaussianNB()"
      ]
     },
     "execution_count": 19,
     "metadata": {},
     "output_type": "execute_result"
    }
   ],
   "source": [
    "# Train the model with the training data\n",
    "gnb.fit(X_train, y_train)"
   ]
  },
  {
   "cell_type": "code",
   "execution_count": 20,
   "metadata": {},
   "outputs": [],
   "source": [
    "# prediction on testing data\n",
    "y_test_pred2= gnb.predict(X_test)"
   ]
  },
  {
   "cell_type": "code",
   "execution_count": 21,
   "metadata": {},
   "outputs": [
    {
     "name": "stdout",
     "output_type": "stream",
     "text": [
      "                       precision    recall  f1-score   support\n",
      "\n",
      "Children's literature       0.41      0.44      0.42       237\n",
      "              Fantasy       0.70      0.59      0.64       453\n",
      "              Mystery       0.53      0.58      0.55       271\n",
      "                Novel       0.49      0.52      0.51       430\n",
      "      Science Fiction       0.62      0.62      0.62       400\n",
      "\n",
      "             accuracy                           0.56      1791\n",
      "            macro avg       0.55      0.55      0.55      1791\n",
      "         weighted avg       0.57      0.56      0.56      1791\n",
      "\n"
     ]
    }
   ],
   "source": [
    "print(classification_report(y_test,y_test_pred2,target_names=target_names))"
   ]
  },
  {
   "cell_type": "markdown",
   "metadata": {},
   "source": [
    "Model's predicting is good on Fantasy,Mystery and Science Fiction but comparatively less on Chidren's literature and Novel."
   ]
  },
  {
   "cell_type": "code",
   "execution_count": 22,
   "metadata": {},
   "outputs": [],
   "source": [
    "nb_acc_score = accuracy_score(y_test,y_test_pred2)\n",
    "nb_pre_score = precision_score(y_test,y_test_pred2, average=\"macro\")\n",
    "nb_rec_score = recall_score(y_test,y_test_pred2, average=\"macro\")\n",
    "nb_f1_score = f1_score(y_test,y_test_pred2, average=\"macro\")"
   ]
  },
  {
   "cell_type": "code",
   "execution_count": 23,
   "metadata": {},
   "outputs": [
    {
     "name": "stdout",
     "output_type": "stream",
     "text": [
      "For Naive Bayes model : \n",
      "\n",
      "Accuracy score:  0.5589056393076494\n",
      "Precision score:  0.5495513060151398\n",
      "Recall score:  0.5503620863380837\n",
      "F1 score:  0.5485895110421655\n"
     ]
    }
   ],
   "source": [
    "print(\"For Naive Bayes model : \")\n",
    "print()\n",
    "print(\"Accuracy score: \", nb_acc_score)\n",
    "print(\"Precision score: \", nb_pre_score)\n",
    "print(\"Recall score: \", nb_rec_score)\n",
    "print(\"F1 score: \", nb_f1_score)"
   ]
  },
  {
   "cell_type": "markdown",
   "metadata": {},
   "source": [
    "Naive bayes model is approximately 55% accurate for predicting genre of a book based on a summary.\n",
    "Precision score is about 0.55 which means, for all instances classified positive (ratio of true positives to the sum of true and false positives), 55% genres were classified correctly.\n",
    "Recall score is 0.55 which means, for all instances that were actually positive (ratio of true positives to the sum of true positives and false negatives), 55% genres were classified correctly.\n",
    "F1 score is about 0.54 which is weighted harmonic mean of precision and recall. "
   ]
  },
  {
   "cell_type": "code",
   "execution_count": 24,
   "metadata": {},
   "outputs": [
    {
     "name": "stdout",
     "output_type": "stream",
     "text": [
      "For Naive Bayes model : \n",
      "\n",
      "Confusion matrix on testing data: \n",
      "[[105  34  29  49  20]\n",
      " [ 54 266  28  45  60]\n",
      " [ 20  16 156  59  20]\n",
      " [ 61  25  65 224  55]\n",
      " [ 19  40  15  76 250]]\n"
     ]
    }
   ],
   "source": [
    "print(\"For Naive Bayes model : \")\n",
    "print()\n",
    "print(\"Confusion matrix on testing data: \")\n",
    "print(confusion_matrix(y_test,y_test_pred2))"
   ]
  },
  {
   "cell_type": "code",
   "execution_count": 25,
   "metadata": {},
   "outputs": [
    {
     "name": "stdout",
     "output_type": "stream",
     "text": [
      "Number of mislabeled book genres out of a total 1791 test genres : 790\n"
     ]
    }
   ],
   "source": [
    "print(\"Number of mislabeled book genres out of a total %d test genres : %d\"  % (X_test.shape[0], (y_test != y_test_pred2).sum()))"
   ]
  },
  {
   "cell_type": "markdown",
   "metadata": {},
   "source": [
    "## Modelling using Decision tree"
   ]
  },
  {
   "cell_type": "code",
   "execution_count": 26,
   "metadata": {},
   "outputs": [],
   "source": [
    "# Build the model\n",
    "dtc = DecisionTreeClassifier()"
   ]
  },
  {
   "cell_type": "code",
   "execution_count": 27,
   "metadata": {},
   "outputs": [
    {
     "data": {
      "text/plain": [
       "DecisionTreeClassifier()"
      ]
     },
     "execution_count": 27,
     "metadata": {},
     "output_type": "execute_result"
    }
   ],
   "source": [
    "# Train the model with the training data\n",
    "dtc.fit(X_train, y_train)"
   ]
  },
  {
   "cell_type": "code",
   "execution_count": 28,
   "metadata": {},
   "outputs": [],
   "source": [
    "# prediction on testing data\n",
    "y_test_pred3= dtc.predict(X_test)"
   ]
  },
  {
   "cell_type": "code",
   "execution_count": 29,
   "metadata": {},
   "outputs": [
    {
     "name": "stdout",
     "output_type": "stream",
     "text": [
      "                       precision    recall  f1-score   support\n",
      "\n",
      "Children's literature       0.30      0.29      0.29       237\n",
      "              Fantasy       0.53      0.59      0.55       453\n",
      "              Mystery       0.45      0.44      0.45       271\n",
      "                Novel       0.43      0.45      0.44       430\n",
      "      Science Fiction       0.53      0.45      0.49       400\n",
      "\n",
      "             accuracy                           0.46      1791\n",
      "            macro avg       0.45      0.44      0.44      1791\n",
      "         weighted avg       0.46      0.46      0.46      1791\n",
      "\n"
     ]
    }
   ],
   "source": [
    "print(classification_report(y_test,y_test_pred3,target_names=target_names))"
   ]
  },
  {
   "cell_type": "markdown",
   "metadata": {},
   "source": [
    "Model's predicting is good on Fantasy,Mystery,Novel and Science Fiction but comparatively less on Chidren's literature."
   ]
  },
  {
   "cell_type": "code",
   "execution_count": 30,
   "metadata": {},
   "outputs": [],
   "source": [
    "dt_acc_score = accuracy_score(y_test,y_test_pred3)\n",
    "dt_pre_score = precision_score(y_test,y_test_pred3, average=\"macro\")\n",
    "dt_rec_score = recall_score(y_test,y_test_pred3, average=\"macro\")\n",
    "dt_f1_score = f1_score(y_test,y_test_pred3, average=\"macro\")"
   ]
  },
  {
   "cell_type": "code",
   "execution_count": 31,
   "metadata": {},
   "outputs": [
    {
     "name": "stdout",
     "output_type": "stream",
     "text": [
      "For Decision tree model : \n",
      "\n",
      "Accuracy score:  0.4617532104969291\n",
      "Precision score:  0.44646701297322106\n",
      "Recall score:  0.443151587312281\n",
      "F1 score:  0.44378456980212544\n"
     ]
    }
   ],
   "source": [
    "print(\"For Decision tree model : \")\n",
    "print()\n",
    "print(\"Accuracy score: \", dt_acc_score)\n",
    "print(\"Precision score: \", dt_pre_score)\n",
    "print(\"Recall score: \", dt_rec_score)\n",
    "print(\"F1 score: \", dt_f1_score)"
   ]
  },
  {
   "cell_type": "markdown",
   "metadata": {},
   "source": [
    "Decision tree model is approximately 45% accurate for predicting genre of a book based on a summary.\n",
    "Precision,recall and F1 scores are all about 43 percent."
   ]
  },
  {
   "cell_type": "code",
   "execution_count": 32,
   "metadata": {},
   "outputs": [
    {
     "name": "stdout",
     "output_type": "stream",
     "text": [
      "For Decision tree model : \n",
      "\n",
      "Confusion matrix on testing data: \n",
      "[[ 68  48  37  60  24]\n",
      " [ 34 266  25  67  61]\n",
      " [ 18  43 120  62  28]\n",
      " [ 68  67  53 193  49]\n",
      " [ 39  82  30  69 180]]\n"
     ]
    }
   ],
   "source": [
    "print(\"For Decision tree model : \")\n",
    "print()\n",
    "print(\"Confusion matrix on testing data: \")\n",
    "print(confusion_matrix(y_test,y_test_pred3))"
   ]
  },
  {
   "cell_type": "code",
   "execution_count": 33,
   "metadata": {},
   "outputs": [
    {
     "name": "stdout",
     "output_type": "stream",
     "text": [
      "Number of mislabeled book genres out of a total 1791 test genres : 964\n"
     ]
    }
   ],
   "source": [
    "print(\"Number of mislabeled book genres out of a total %d test genres : %d\"  % (X_test.shape[0], (y_test != y_test_pred3).sum()))"
   ]
  },
  {
   "cell_type": "markdown",
   "metadata": {},
   "source": [
    "## Modelling using Random Forest "
   ]
  },
  {
   "cell_type": "code",
   "execution_count": 34,
   "metadata": {},
   "outputs": [],
   "source": [
    "# Build the model\n",
    "rfc = RandomForestClassifier()"
   ]
  },
  {
   "cell_type": "code",
   "execution_count": 35,
   "metadata": {},
   "outputs": [
    {
     "data": {
      "text/plain": [
       "RandomForestClassifier()"
      ]
     },
     "execution_count": 35,
     "metadata": {},
     "output_type": "execute_result"
    }
   ],
   "source": [
    "# Train the model with the training data\n",
    "rfc.fit(X_train, y_train)"
   ]
  },
  {
   "cell_type": "code",
   "execution_count": 36,
   "metadata": {},
   "outputs": [],
   "source": [
    "# prediction on testing data\n",
    "y_test_pred4= rfc.predict(X_test)"
   ]
  },
  {
   "cell_type": "code",
   "execution_count": 37,
   "metadata": {},
   "outputs": [
    {
     "name": "stdout",
     "output_type": "stream",
     "text": [
      "                       precision    recall  f1-score   support\n",
      "\n",
      "Children's literature       0.67      0.24      0.36       237\n",
      "              Fantasy       0.67      0.75      0.71       453\n",
      "              Mystery       0.69      0.55      0.62       271\n",
      "                Novel       0.55      0.78      0.65       430\n",
      "      Science Fiction       0.73      0.69      0.71       400\n",
      "\n",
      "             accuracy                           0.65      1791\n",
      "            macro avg       0.66      0.60      0.61      1791\n",
      "         weighted avg       0.66      0.65      0.63      1791\n",
      "\n"
     ]
    }
   ],
   "source": [
    "print(classification_report(y_test,y_test_pred4,target_names=target_names))"
   ]
  },
  {
   "cell_type": "markdown",
   "metadata": {},
   "source": [
    "Model's predicting is good on Fantasy,Mystery,Novel and Science Fiction but comparatively less on Chidren's literature."
   ]
  },
  {
   "cell_type": "code",
   "execution_count": 38,
   "metadata": {},
   "outputs": [],
   "source": [
    "rf_acc_score = accuracy_score(y_test,y_test_pred4)\n",
    "rf_pre_score = precision_score(y_test,y_test_pred4, average=\"macro\")\n",
    "rf_rec_score = recall_score(y_test,y_test_pred4, average=\"macro\")\n",
    "rf_f1_score = f1_score(y_test,y_test_pred4, average=\"macro\")"
   ]
  },
  {
   "cell_type": "code",
   "execution_count": 39,
   "metadata": {},
   "outputs": [
    {
     "name": "stdout",
     "output_type": "stream",
     "text": [
      "For Random Forest model : \n",
      "\n",
      "Accuracy score:  0.6454494695700725\n",
      "Precision score:  0.6639651075253206\n",
      "Recall score:  0.6021054671756356\n",
      "F1 score:  0.6069177794151943\n"
     ]
    }
   ],
   "source": [
    "print(\"For Random Forest model : \")\n",
    "print()\n",
    "print(\"Accuracy score: \", rf_acc_score)\n",
    "print(\"Precision score: \", rf_pre_score)\n",
    "print(\"Recall score: \", rf_rec_score)\n",
    "print(\"F1 score: \", rf_f1_score)"
   ]
  },
  {
   "cell_type": "markdown",
   "metadata": {},
   "source": [
    "Random Forest model is approximately 63% accurate for predicting genre of a book based on a summary.\n",
    "Precision score is about 0.64 which means, for all instances classified positive (ratio of true positives to the sum of true and false positives), 64% genres were classified correctly.\n",
    "Recall score is 0.58 which means, for all instances that were actually positive (ratio of true positives to the sum of true positives and false negatives), 58% genres were classified correctly.\n",
    "F1 score is about 0.59 which is weighted harmonic mean of precision and recall. "
   ]
  },
  {
   "cell_type": "code",
   "execution_count": 40,
   "metadata": {},
   "outputs": [
    {
     "name": "stdout",
     "output_type": "stream",
     "text": [
      "For Random Forest model : \n",
      "\n",
      "Confusion matrix on testing data: \n",
      "[[ 58  67  17  92   3]\n",
      " [  7 340  10  50  46]\n",
      " [  5  36 150  67  13]\n",
      " [ 11  23  24 334  38]\n",
      " [  5  45  15  61 274]]\n"
     ]
    }
   ],
   "source": [
    "print(\"For Random Forest model : \")\n",
    "print()\n",
    "print(\"Confusion matrix on testing data: \")\n",
    "print(confusion_matrix(y_test,y_test_pred4))"
   ]
  },
  {
   "cell_type": "code",
   "execution_count": 41,
   "metadata": {},
   "outputs": [
    {
     "name": "stdout",
     "output_type": "stream",
     "text": [
      "Number of mislabeled book genres out of a total 1791 test genres : 635\n"
     ]
    }
   ],
   "source": [
    "print(\"Number of mislabeled book genres out of a total %d test genres : %d\"  % (X_test.shape[0], (y_test != y_test_pred4).sum()))"
   ]
  },
  {
   "cell_type": "markdown",
   "metadata": {},
   "source": [
    "## Modelling using KNeighborsClassifier"
   ]
  },
  {
   "cell_type": "code",
   "execution_count": 42,
   "metadata": {},
   "outputs": [],
   "source": [
    "# Build the model\n",
    "knc = KNeighborsClassifier(n_neighbors=50)"
   ]
  },
  {
   "cell_type": "code",
   "execution_count": 43,
   "metadata": {},
   "outputs": [
    {
     "data": {
      "text/plain": [
       "KNeighborsClassifier(n_neighbors=50)"
      ]
     },
     "execution_count": 43,
     "metadata": {},
     "output_type": "execute_result"
    }
   ],
   "source": [
    "# Train the model with the training data\n",
    "knc.fit(X_train, y_train)"
   ]
  },
  {
   "cell_type": "code",
   "execution_count": 44,
   "metadata": {},
   "outputs": [],
   "source": [
    "# prediction on testing data\n",
    "y_test_pred5= knc.predict(X_test)"
   ]
  },
  {
   "cell_type": "code",
   "execution_count": 45,
   "metadata": {},
   "outputs": [
    {
     "name": "stdout",
     "output_type": "stream",
     "text": [
      "                       precision    recall  f1-score   support\n",
      "\n",
      "Children's literature       0.75      0.03      0.05       237\n",
      "              Fantasy       0.40      0.88      0.55       453\n",
      "              Mystery       0.89      0.13      0.22       271\n",
      "                Novel       0.51      0.54      0.53       430\n",
      "      Science Fiction       0.74      0.53      0.62       400\n",
      "\n",
      "             accuracy                           0.49      1791\n",
      "            macro avg       0.66      0.42      0.39      1791\n",
      "         weighted avg       0.62      0.49      0.44      1791\n",
      "\n"
     ]
    }
   ],
   "source": [
    "print(classification_report(y_test,y_test_pred5,target_names=target_names))"
   ]
  },
  {
   "cell_type": "code",
   "execution_count": 46,
   "metadata": {},
   "outputs": [],
   "source": [
    "knc_acc_score = accuracy_score(y_test,y_test_pred5)\n",
    "knc_pre_score = precision_score(y_test,y_test_pred5, average=\"macro\")\n",
    "knc_rec_score = recall_score(y_test,y_test_pred5, average=\"macro\")\n",
    "knc_f1_score = f1_score(y_test,y_test_pred5, average=\"macro\")"
   ]
  },
  {
   "cell_type": "code",
   "execution_count": 47,
   "metadata": {},
   "outputs": [
    {
     "name": "stdout",
     "output_type": "stream",
     "text": [
      "For KNeighborsClassifier model : \n",
      "\n",
      "Accuracy score:  0.49302065884980456\n",
      "Precision score:  0.658376129679567\n",
      "Recall score:  0.42022145920328685\n",
      "F1 score:  0.3917895172156843\n"
     ]
    }
   ],
   "source": [
    "print(\"For KNeighborsClassifier model : \")\n",
    "print()\n",
    "print(\"Accuracy score: \", knc_acc_score)\n",
    "print(\"Precision score: \", knc_pre_score)\n",
    "print(\"Recall score: \", knc_rec_score)\n",
    "print(\"F1 score: \", knc_f1_score)"
   ]
  },
  {
   "cell_type": "markdown",
   "metadata": {},
   "source": [
    "KNeighborsClassifier model is approximately 49% accurate for predicting genre of a book based on a summary.\n",
    "Precision score is about 0.65 which means, for all instances classified positive (ratio of true positives to the sum of true and false positives), 65% genres were classified correctly.\n",
    "Recall score is 0.42 which means, for all instances that were actually positive (ratio of true positives to the sum of true positives and false negatives), 42% genres were classified correctly.\n",
    "F1 score is about 0.39 which is weighted harmonic mean of precision and recall. "
   ]
  },
  {
   "cell_type": "code",
   "execution_count": 48,
   "metadata": {},
   "outputs": [
    {
     "name": "stdout",
     "output_type": "stream",
     "text": [
      "For KNeighborsClassifier model : \n",
      "\n",
      "Confusion matrix on testing data: \n",
      "[[  6 141   0  82   8]\n",
      " [  0 399   0  30  24]\n",
      " [  0 156  34  69  12]\n",
      " [  2 160   4 232  32]\n",
      " [  0 150   0  38 212]]\n"
     ]
    }
   ],
   "source": [
    "print(\"For KNeighborsClassifier model : \")\n",
    "print()\n",
    "print(\"Confusion matrix on testing data: \")\n",
    "print(confusion_matrix(y_test,y_test_pred5))"
   ]
  },
  {
   "cell_type": "code",
   "execution_count": 49,
   "metadata": {},
   "outputs": [
    {
     "name": "stdout",
     "output_type": "stream",
     "text": [
      "Number of mislabeled book genres out of a total 1791 test genres : 908\n"
     ]
    }
   ],
   "source": [
    "print(\"Number of mislabeled book genres out of a total %d test genres : %d\"  % (X_test.shape[0], (y_test != y_test_pred5).sum()))"
   ]
  },
  {
   "cell_type": "markdown",
   "metadata": {},
   "source": [
    "## Model Evaluation by visual comparision"
   ]
  },
  {
   "cell_type": "markdown",
   "metadata": {},
   "source": [
    "Evaluating and comparing the learned predictive models."
   ]
  },
  {
   "cell_type": "code",
   "execution_count": 50,
   "metadata": {},
   "outputs": [],
   "source": [
    "# passing the list of scores of all the models into respective score variables \n",
    "accuracy_scores = [logistic_acc_score, nb_acc_score, dt_acc_score, rf_acc_score, knc_acc_score]\n",
    "precision_scores = [logistic_pre_score, nb_pre_score, dt_pre_score, rf_pre_score, knc_pre_score]\n",
    "recall_scores = [logistic_rec_score, nb_rec_score, dt_rec_score, rf_rec_score, knc_rec_score]\n",
    "f1_scores = [logistic_f1_score, nb_f1_score, dt_f1_score, rf_f1_score, knc_f1_score]"
   ]
  },
  {
   "cell_type": "code",
   "execution_count": 51,
   "metadata": {},
   "outputs": [
    {
     "data": {
      "image/png": "[encoded data removed]",
      "text/plain": [
       "<Figure size 576x432 with 1 Axes>"
      ]
     },
     "metadata": {
      "needs_background": "light"
     },
     "output_type": "display_data"
    }
   ],
   "source": [
    "# plotting the graph\n",
    "plt.figure(figsize=(8,6))\n",
    "ind = np.arange(5) \n",
    "width = 0.15       \n",
    "plt.bar(ind, accuracy_scores , width, label='Accuracy ')\n",
    "plt.bar(ind + width, precision_scores, width, label='Precision')\n",
    "plt.bar(ind + width*2, recall_scores, width, label= 'Recall')\n",
    "plt.bar(ind + width *3, f1_scores, width, label= 'F1 ')\n",
    "\n",
    "plt.ylabel('Scores')\n",
    "plt.title('Scores by modelling')\n",
    "plt.xticks( ind + width*3 / 2 ,('Logistic', 'Naive Bayes', 'Decision tree', 'Random Forest', 'KNeighbors'))\n",
    "plt.legend(loc='best')\n",
    "plt.show()"
   ]
  },
  {
   "cell_type": "markdown",
   "metadata": {},
   "source": [
    "## Conclusion"
   ]
  },
  {
   "cell_type": "markdown",
   "metadata": {},
   "source": [
    "The graph above suggests that the performace of Logistic Regression model is better than every other model on the  book summaries data for predicting genre of a book based on a summary where all scores (accuracy,precision,recall,f1) are approximately 0.7 . The performace of Random forest model on data is second best followed by Gaussian Naive Bayes and KNeighbors Classifier. Decision tree model performance using book summary in predicting genres of book is the least amongst the five models.\n",
    "From classification reports for all models, we can say that model's predicting is good on Fantasy,Mystery,Novel and Science Fiction but comparatively less on Chidren's literature.Which means predicting genre of Chidren's literature is a less precise based on the book summary as compared to other book genres."
   ]
  },
  {
   "cell_type": "markdown",
   "metadata": {},
   "source": [
    "Note:\n",
    "Since we have used default or estimated values for building the models and not performed cross validation process (for example- to find optimal n_neighbors in KNeighbors), there might be some inaccuracies in predictions."
   ]
  }
 ],
 "metadata": {
  "kernelspec": {
   "display_name": "Python 3",
   "language": "python",
   "name": "python3"
  },
  "language_info": {
   "codemirror_mode": {
    "name": "ipython",
    "version": 3
   },
   "file_extension": ".py",
   "mimetype": "text/x-python",
   "name": "python",
   "nbconvert_exporter": "python",
   "pygments_lexer": "ipython3",
   "version": "3.8.3"
  }
 },
 "nbformat": 4,
 "nbformat_minor": 2
}
